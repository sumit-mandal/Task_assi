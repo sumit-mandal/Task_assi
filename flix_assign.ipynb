{
 "cells": [
  {
   "cell_type": "markdown",
   "metadata": {
    "colab_type": "text",
    "id": "view-in-github"
   },
   "source": [
    "<a href=\"https://colab.research.google.com/github/vasudev-sharma/Flixstock-assignment/blob/master/Assignment.ipynb\" target=\"_parent\"><img src=\"https://colab.research.google.com/assets/colab-badge.svg\" alt=\"Open In Colab\"/></a>"
   ]
  },
  {
   "cell_type": "code",
   "execution_count": null,
   "metadata": {
    "id": "dMfcQpkBRsaz"
   },
   "outputs": [],
   "source": [
    "\n",
    "# PyTorch libraries\n",
    "import torch\n",
    "from torchvision import transforms, datasets\n",
    "import torch.nn as nn\n",
    "import torch.nn.functional as F\n",
    "from torch.utils.data import Dataset, DataLoader, random_split\n",
    "\n",
    "import os\n",
    "from pathlib import Path\n",
    "import pandas as pd\n",
    "from PIL import Image\n",
    "import numpy as np\n",
    "import math\n",
    "import random\n",
    "from tqdm import tqdm\n",
    "import shutil"
   ]
  },
  {
   "cell_type": "code",
   "execution_count": null,
   "metadata": {},
   "outputs": [],
   "source": []
  },
  {
   "cell_type": "code",
   "execution_count": null,
   "metadata": {
    "colab": {
     "base_uri": "https://localhost:8080/"
    },
    "id": "pZzZ-9Yi5WRb",
    "outputId": "e4a0fdfc-04c6-441a-ffb1-59565f39dbd7",
    "tags": []
   },
   "outputs": [],
   "source": [
    "!pip install wandb\n",
    "# Visulazing the training logs, metrics and artifacts\n",
    "import wandb\n",
    "\n"
   ]
  },
  {
   "cell_type": "markdown",
   "metadata": {
    "id": "LGZV_ihd1dhx"
   },
   "source": [
    "# Preparing the data"
   ]
  },
  {
   "cell_type": "code",
   "execution_count": null,
   "metadata": {
    "colab": {
     "base_uri": "https://localhost:8080/"
    },
    "id": "_BKG1B7dOExG",
    "outputId": "df421fe7-bb5a-43c4-8b09-6012c6fd9acc"
   },
   "outputs": [],
   "source": [
    "# Download the data\n",
    "!FILEID='1p7-dU6rDuqZ2mxv5ac5AWndt4z19aS6j' && \\\n",
    "FILENAME='data.zip' && \\\n",
    "FILEDEST=\"https://docs.google.com/uc?export=download&id=${FILEID}\" && \\\n",
    "wget --load-cookies /tmp/cookies.txt \"https://docs.google.com/uc?export=download&confirm=$(wget --save-cookies /tmp/cookies.txt --keep-session-cookies --no-check-certificate ${FILEDEST} -O- | sed -rn 's/.*confirm=([0-9A-Za-z_]+).*/\\1\\n/p')&id=${FILEID}\" -O $FILENAME && rm -rf /tmp/cookies.txt"
   ]
  },
  {
   "cell_type": "code",
   "execution_count": null,
   "metadata": {
    "colab": {
     "base_uri": "https://localhost:8080/"
    },
    "id": "FLC_XF_DRMS3",
    "outputId": "4b96fa1e-5901-4816-b9a7-12e6acb9a698"
   },
   "outputs": [],
   "source": [
    "# unzip the data\n",
    "%%bash\n",
    "unzip data.zip -d data\n"
   ]
  },
  {
   "cell_type": "code",
   "execution_count": null,
   "metadata": {
    "id": "FzjN66uslLd6"
   },
   "outputs": [],
   "source": [
    "data_path = Path('/content/data/classification-assignment')"
   ]
  },
  {
   "cell_type": "code",
   "execution_count": null,
   "metadata": {
    "colab": {
     "base_uri": "https://localhost:8080/"
    },
    "id": "Twdiwq-b-dlv",
    "outputId": "e61446e5-ef95-4f03-d442-93771c88e5cc"
   },
   "outputs": [],
   "source": [
    "# Remove `Thumbs.db` file from images directory if exsists\n",
    "\n",
    "path_file = data_path / 'images' / 'Thumbs.db'\n",
    "if os.path.exists(str(path_file)):\n",
    "  print(\"The file exists\")\n",
    "  os.unlink(str(path_file))\n",
    "  print('Thumbs.db file has been removed')"
   ]
  },
  {
   "cell_type": "markdown",
   "metadata": {
    "id": "IghVD8tGb32G"
   },
   "source": [
    "## Datasets and DataLoaders"
   ]
  },
  {
   "cell_type": "code",
   "execution_count": null,
   "metadata": {
    "id": "SZxS7_TUTItH"
   },
   "outputs": [],
   "source": [
    "class FashionDataset(Dataset):\n",
    "  def __init__(self, root, transform=None, target_transform=None):\n",
    "    \n",
    "    self.root = root\n",
    "    self.transform = transform\n",
    "    self.target_transform = target_transform\n",
    "    self.samples = os.listdir(str(self.root / 'images'))\n",
    "\n",
    "    # Attributes dataframe\n",
    "    self.df_attributes = pd.read_csv(str(self.root / 'attributes.csv'))\n",
    "\n",
    "    # Encode each attribute into one-hot encoding, and then concatenate the encoded labels to get targets\n",
    "    self.preprocess_targets() \n",
    "\n",
    "  def __len__(self):\n",
    "    return len(self.samples)\n",
    "  \n",
    "  def __getitem__(self, index):\n",
    "\n",
    "    # shuffle the images list\n",
    "    np.random.shuffle(self.samples)\n",
    "\n",
    "    # name of the image\n",
    "    filename_image = self.samples[index]\n",
    "\n",
    "    try:\n",
    "      image = Image.open(str(self.root / 'images' / filename_image)).convert('RGB')\n",
    "    except Exception as e:\n",
    "      print('Path of the image is', str(self.root / 'images' / filename_image))\n",
    "      print('Unable to read the image')\n",
    "\n",
    "    # retreive the specific row of given index\n",
    "    df_row = self.df_attributes.loc[self.df_attributes['filename'] == filename_image]\n",
    "\n",
    "    if self.transform is not None:\n",
    "      image = self.transform(image)\n",
    "\n",
    "    # Target\n",
    "    target_start_idx = self.df_attributes.columns.get_loc('neck_0.0')\n",
    "    target = torch.tensor(self.df_attributes.iloc[0].tolist()[target_start_idx:], dtype=torch.float32)\n",
    "\n",
    "    # return target and labels\n",
    "    return image, target\n",
    "  \n",
    "  def preprocess_targets(self):\n",
    "\n",
    "    # Drop rows which have `NA`\n",
    "    # TODO: Look at optimal ways of reducing bias\n",
    "    self.df_attributes = self.df_attributes.dropna()\n",
    "\n",
    "    # one hot encode the Neck attribute\n",
    "    one_hot_neck = pd.get_dummies(self.df_attributes.neck, prefix='neck')\n",
    "\n",
    "    # one hot encode the sleeve_length attribute\n",
    "    one_hot_sleeve_length = pd.get_dummies(self.df_attributes.sleeve_length, prefix='sleeve_length')\n",
    "\n",
    "    # one hot encode the pattern attribute\n",
    "    one_hot_pattern = pd.get_dummies(self.df_attributes.pattern, prefix='pattern')\n",
    "\n",
    "    # concatenate the one hot encoded attributes to dataframe\n",
    "    self.df_attributes = pd.concat([self.df_attributes, one_hot_neck, one_hot_sleeve_length, one_hot_pattern], axis=1)\n",
    "\n",
    "  def getImagesList(self):\n",
    "    return self.samples\n"
   ]
  },
  {
   "cell_type": "code",
   "execution_count": null,
   "metadata": {
    "id": "P9w8dMPmlsSA"
   },
   "outputs": [],
   "source": [
    "# transforms \n",
    "train_transforms =  transforms.Compose(\n",
    "    [\n",
    "     transforms.Resize((256, 256)),\n",
    "     transforms.RandomHorizontalFlip(),\n",
    "     transforms.ToTensor(),\n",
    "     transforms.Normalize(mean=[0.485, 0.456, 0.406], std=[0.229, 0.224, 0.225])\n",
    "    ]\n",
    "      )\n",
    "\n",
    "valid_transforms = transforms.Compose(\n",
    "          [transforms.Resize((256, 256)),\n",
    "           transforms.RandomHorizontalFlip(),\n",
    "           transforms.ToTensor(),\n",
    "           transforms.Normalize(mean=[0.485, 0.456, 0.406], std=[0.229, 0.224, 0.225])\n",
    "          ]\n",
    "          )\n"
   ]
  },
  {
   "cell_type": "code",
   "execution_count": null,
   "metadata": {
    "id": "psa_EyjUWigW"
   },
   "outputs": [],
   "source": [
    "# Dataset\n",
    "\n",
    "dataset = FashionDataset(data_path, transform=train_transforms)\n",
    "list_images = dataset.getImagesList()"
   ]
  },
  {
   "cell_type": "code",
   "execution_count": null,
   "metadata": {
    "id": "DW7r24Q35LWl"
   },
   "outputs": [],
   "source": [
    "# split of dataset into train, valid, test datasets\n",
    "\n",
    "train_split = 0.75\n",
    "val_split = 0.15\n",
    "test_split = 1 - (train_split + val_split)\n",
    "\n",
    "len_train_dataset = math.ceil(train_split * len(dataset))\n",
    "len_val_dataset = math.ceil(val_split * len(dataset))\n",
    "len_test_dataset = len(dataset) - (len_train_dataset + len_val_dataset)\n"
   ]
  },
  {
   "cell_type": "code",
   "execution_count": null,
   "metadata": {
    "id": "qOl8S6yB57KK"
   },
   "outputs": [],
   "source": [
    "ds_train, ds_valid, ds_test = random_split(dataset, [len_train_dataset, len_val_dataset, len_test_dataset])"
   ]
  },
  {
   "cell_type": "code",
   "execution_count": null,
   "metadata": {
    "id": "TeZ3B-1v6SiV"
   },
   "outputs": [],
   "source": [
    "# sanity check \n",
    "assert len(ds_train) == len_train_dataset\n",
    "assert len(ds_valid) == len_val_dataset\n",
    "assert len(ds_test) == len_test_dataset"
   ]
  },
  {
   "cell_type": "markdown",
   "metadata": {
    "id": "1roeHA8q19hH"
   },
   "source": [
    "# Test directory"
   ]
  },
  {
   "cell_type": "code",
   "execution_count": null,
   "metadata": {
    "colab": {
     "base_uri": "https://localhost:8080/"
    },
    "id": "_NS3B60JcHt8",
    "outputId": "a03659de-036b-4e6d-d733-45abb0d2fe21"
   },
   "outputs": [],
   "source": [
    "# Test directory for testing the images\n",
    "# Test directory containes all the images for testing the model\n",
    "\n",
    "try:\n",
    "  os.mkdir(str(data_path / 'test'))\n",
    "except Exception as e:\n",
    "  print('The directory already exists')\n",
    "\n",
    "# Save test images in `test` directory\n",
    "for index, image_name in tqdm(enumerate(list_images)):\n",
    "  if index in ds_test.indices:\n",
    "    shutil.copy(str(data_path / 'images' / image_name), str(data_path / 'test' / image_name))\n",
    "\n",
    "\n"
   ]
  },
  {
   "cell_type": "code",
   "execution_count": null,
   "metadata": {
    "colab": {
     "base_uri": "https://localhost:8080/"
    },
    "id": "yo34ALe8dKZJ",
    "outputId": "5fd0aa13-3296-4c01-f1cc-66d4bf20f566"
   },
   "outputs": [],
   "source": [
    "# zip the test data for downloading\n",
    "%%bash\n",
    "cd data/classification-assignment\n",
    "zip -r test.zip test\n",
    "\n",
    "# Note this test data has been uploaded to Gdrive"
   ]
  },
  {
   "cell_type": "markdown",
   "metadata": {
    "id": "qJdUdMsS2akK"
   },
   "source": [
    "# Hyperparameters"
   ]
  },
  {
   "cell_type": "code",
   "execution_count": null,
   "metadata": {
    "id": "ZbrGmd_T6zhD"
   },
   "outputs": [],
   "source": [
    "# hyperparameters\n",
    "batch_size = 16\n",
    "lr = 5e-5\n",
    "epochs=30\n",
    "log_freq = 10\n",
    "\n",
    "device = torch.device('cuda:0' if torch.cuda.is_available() else 'cpu')\n",
    "n_labels = 21\n",
    "\n"
   ]
  },
  {
   "cell_type": "code",
   "execution_count": null,
   "metadata": {
    "id": "IWBHG7smRuME"
   },
   "outputs": [],
   "source": [
    "model_dict = {\n",
    "    # DenseNet\n",
    "    'densenet121': 1024,\n",
    "    'densenet169': 1664,\n",
    "    'densenet161': 2208,\n",
    "\n",
    "    # ResNet\n",
    "    'resnet50': 2048,\n",
    "    'resnet101' : 2048,\n",
    "    'resnet34': 512,\n",
    "\n",
    "    # EfficientNet\n",
    "    'efficientnet-b0':1280,\n",
    "    'efficientnet-b3': 1536,\n",
    "    'efficientnet-b5': 2048\n",
    "\n",
    "}\n",
    "\n",
    "\n",
    "model_name = 'efficientnet-b3'\n",
    "# Change the model name depending which model you want to fine tune"
   ]
  },
  {
   "cell_type": "code",
   "execution_count": null,
   "metadata": {
    "colab": {
     "base_uri": "https://localhost:8080/"
    },
    "id": "21Esn19IGTHH",
    "outputId": "6e69a3ac-11c1-4915-b736-1bdc4e22572b"
   },
   "outputs": [],
   "source": [
    "device"
   ]
  },
  {
   "cell_type": "markdown",
   "metadata": {
    "id": "9XtiJweI2v1V"
   },
   "source": [
    "## Dataloaders"
   ]
  },
  {
   "cell_type": "code",
   "execution_count": null,
   "metadata": {
    "id": "1swNMGXJ6fWm"
   },
   "outputs": [],
   "source": [
    "# Dataloaders\n",
    "dl_train = DataLoader(ds_train, batch_size=batch_size, shuffle=True, pin_memory=True)\n",
    "dl_valid = DataLoader(ds_valid, batch_size=batch_size, shuffle=True, pin_memory=True)\n",
    "dl_test = DataLoader(ds_valid, batch_size=len(ds_test), shuffle=False, pin_memory=True)"
   ]
  },
  {
   "cell_type": "code",
   "execution_count": null,
   "metadata": {
    "colab": {
     "base_uri": "https://localhost:8080/"
    },
    "id": "nxWYTOgR7elY",
    "outputId": "f232d1ae-3650-4a64-f1bb-d161c9b9f498"
   },
   "outputs": [],
   "source": [
    "# sanity check the shape \n",
    "for batch in dl_train:\n",
    "  img_batch, target_batch = batch\n",
    "  print(img_batch.shape)\n",
    "  print(target_batch.shape)\n",
    "  break"
   ]
  },
  {
   "cell_type": "code",
   "execution_count": null,
   "metadata": {
    "cellView": "form",
    "colab": {
     "base_uri": "https://localhost:8080/"
    },
    "id": "maoB_Flr8fz9",
    "outputId": "e06fc617-4286-49aa-f31b-84420f4fb668"
   },
   "outputs": [],
   "source": [
    "#@title\n",
    "!wandb login 202040aaac395bbf5a4a47d433a5335b74b7fb0e"
   ]
  },
  {
   "cell_type": "markdown",
   "metadata": {
    "id": "LmVitCVOCBxf"
   },
   "source": [
    "# Model Training"
   ]
  },
  {
   "cell_type": "code",
   "execution_count": null,
   "metadata": {
    "colab": {
     "base_uri": "https://localhost:8080/"
    },
    "id": "mZ1J-LdhRsiS",
    "outputId": "cfbb5292-0343-4297-ce1b-4455795365d0"
   },
   "outputs": [],
   "source": [
    "# efficient net model -> https://github.com/lukemelas/EfficientNet-PyTorch\n",
    "!pip install efficientnet_pytorch"
   ]
  },
  {
   "cell_type": "code",
   "execution_count": null,
   "metadata": {
    "colab": {
     "base_uri": "https://localhost:8080/"
    },
    "id": "qcZS6p5UCGkF",
    "outputId": "d59050f2-959c-40ed-97da-5c60b10d37d3"
   },
   "outputs": [],
   "source": [
    "# load a pretrained Densenet 121 model for finetuing on the Chest X_ray images\n",
    "from efficientnet_pytorch import EfficientNet\n",
    "\n",
    "if not model_name.startswith('efficientnet'):\n",
    "  model = torch.hub.load('pytorch/vision:v0.9.0', model_name, pretrained=True)\n",
    "else:\n",
    "  model = EfficientNet.from_pretrained(model_name)\n"
   ]
  },
  {
   "cell_type": "code",
   "execution_count": null,
   "metadata": {
    "colab": {
     "base_uri": "https://localhost:8080/"
    },
    "id": "Ip-xSekZDcak",
    "outputId": "13f375c8-2952-47e9-ffeb-4ebd678d06f8"
   },
   "outputs": [],
   "source": [
    "# Densenet \n",
    "if model_name.startswith('densenet'): \n",
    "  model.classifier = nn.Linear(model_dict[model_name], n_labels)\n",
    "\n",
    "if model_name.startswith('efficientnet'):\n",
    "  print(model_dict[model_name])\n",
    "  model._fc = nn.Linear(model_dict[model_name], n_labels)\n",
    "else:\n",
    "  model.fc = nn.Linear(model_dict[model_name], n_labels)\n",
    "\n",
    "# Migrate the mode to device\n",
    "model.to(device)"
   ]
  },
  {
   "cell_type": "markdown",
   "metadata": {
    "id": "ov7o_XAK-zuv"
   },
   "source": [
    "## Model Loss, Optmizer and Scheduler"
   ]
  },
  {
   "cell_type": "code",
   "execution_count": null,
   "metadata": {
    "id": "UOs3mu4_HhkQ"
   },
   "outputs": [],
   "source": [
    "# \n",
    "model.loss_func = nn.BCELoss()\n",
    "model.optimizer = torch.optim.Adam(model.parameters(), lr=lr)\n",
    "model.scheduler = torch.optim.lr_scheduler.CosineAnnealingLR(model.optimizer, T_max=5)"
   ]
  },
  {
   "cell_type": "code",
   "execution_count": null,
   "metadata": {
    "id": "utoi8RX6NFmo"
   },
   "outputs": [],
   "source": [
    "from sklearn.metrics import *"
   ]
  },
  {
   "cell_type": "code",
   "execution_count": null,
   "metadata": {
    "id": "eg3B7P5_MIe3"
   },
   "outputs": [],
   "source": [
    "def calculate_metrics(pred, target, threshold=0.5):\n",
    "  pred = np.array(pred > threshold, dtype = float)\n",
    "  return { \n",
    "      # Micro scores\n",
    "      'micro/precision':precision_score(y_true=target, y_pred=pred, average='micro'),\n",
    "      'micro/recall': recall_score(y_true=target, y_pred=pred, average='micro'),\n",
    "      'micro/f1_score': f1_score(y_true=target, y_pred=pred, average='micro'),\n",
    "\n",
    "      # Macro scores\n",
    "      'macro/precision':precision_score(y_true=target, y_pred=pred, average='macro'),\n",
    "      'macro/recall': recall_score(y_true=target, y_pred=pred, average='macro'),\n",
    "      'macro/f1_score': f1_score(y_true=target, y_pred=pred, average='macro'),\n",
    "\n",
    "  }"
   ]
  },
  {
   "cell_type": "code",
   "execution_count": null,
   "metadata": {
    "id": "fXLmF6lqNLsC"
   },
   "outputs": [],
   "source": [
    "\n",
    "def train_model(model, dl_train, dl_valid, epochs, log_freq):\n",
    "  print('***************Training of the model has started**************')\n",
    "  wandb.watch(model, log='all')\n",
    "\n",
    "  iteration = 0\n",
    "  for epoch in range(epochs+1):\n",
    "\n",
    "    batch_losses = []\n",
    "    preds_list = []\n",
    "    targets_list = []\n",
    "    for batch_idx, (features, targets) in enumerate(dl_train, 1):\n",
    "      model.train()\n",
    "      \n",
    "      model.optimizer.zero_grad()\n",
    "\n",
    "      # Migrate the features and targets to device\n",
    "      features, targets = features.to(device), targets.to(device)\n",
    "\n",
    "      # Forward pass\n",
    "      logits = model(features)\n",
    "      preds = torch.sigmoid(logits)\n",
    "\n",
    "      # loss\n",
    "      loss = model.loss_func(preds, targets)\n",
    "\n",
    "      # metrics\n",
    "      preds_list.extend(preds.cpu().detach().numpy())\n",
    "      targets_list.extend(targets.cpu().detach().numpy())\n",
    "\n",
    "      # backward pass\n",
    "      loss.backward()\n",
    "\n",
    "      # update weights\n",
    "      model.optimizer.step()\n",
    "\n",
    "      batch_losses.append(loss.item())\n",
    "    \n",
    "    loss_mean = np.mean(batch_losses)\n",
    "    metrics_dict = calculate_metrics(np.array(preds_list), np.array(targets_list))\n",
    "    \n",
    "    print('[Epoch = % d]: train_loss = %.3f,  micro/precision = %.3f, micro/recall = %.3f, micro/f1_score = %.3f, macro/precision = %.3f, macro/recall = %.3f, macro/f1_score = %.3f' \\\n",
    "          % (epoch, loss_mean , metrics_dict['micro/precision'], metrics_dict['micro/recall'], metrics_dict['micro/f1_score'], metrics_dict['macro/precision'], metrics_dict['macro/recall'], metrics_dict['macro/f1_score']))\n",
    "\n",
    "    print('====='*12)\n",
    "    print('\\n')\n",
    "\n",
    "    # Validation \n",
    "    model.eval()\n",
    "    with torch.no_grad():\n",
    "\n",
    "      val_preds_list = []\n",
    "      val_targets_list = []\n",
    "      val_loss_sum = 0.0\n",
    "      for val_batch_idx, (val_features, val_targets) in enumerate(dl_valid, 1):\n",
    "          \n",
    "          val_features, val_targets = val_features.to(device), val_targets.to(device)\n",
    "          \n",
    "          # Forward pass\n",
    "          val_logits = model(val_features)\n",
    "          val_preds = torch.sigmoid(val_logits)\n",
    "\n",
    "          val_preds_list.extend(val_preds.cpu().numpy())\n",
    "          val_targets_list.extend(val_targets.cpu().numpy())\n",
    "\n",
    "          # val loss\n",
    "          val_loss = model.loss_func(val_preds, val_targets).item()\n",
    "          val_loss_sum+=val_loss\n",
    "\n",
    "    val_metrics_dict = calculate_metrics(np.array(val_preds_list), np.array(val_targets_list))\n",
    "\n",
    "\n",
    "    print('-> [Epoch = % d]: val_loss = %.3f,  val_micro/precision = %.3f, val_micro/recall = %.3f, val_micro/f1_score = %.3f, val_macro/precision = %.3f, val_macro/recall = %.3f, val_macro/f1_score = %.3f' \\\n",
    "          % (epoch, val_loss_sum / val_batch_idx, val_metrics_dict['micro/precision'], val_metrics_dict['micro/recall'], val_metrics_dict['micro/f1_score'], val_metrics_dict['macro/precision'], val_metrics_dict['macro/recall'], val_metrics_dict['macro/f1_score']))\n",
    "    print('----'*12)\n",
    "    print('\\n')\n",
    "\n",
    "    wandb.log({'epoch': epoch,\n",
    "               'train_loss': loss_mean,\n",
    "               'train_micro_precision': metrics_dict['micro/precision'],\n",
    "                'train_micro_recall':metrics_dict['micro/recall'],\n",
    "                'train_micro_f1_score': metrics_dict['micro/f1_score'],\n",
    "                'train_macro_precision':metrics_dict['macro/precision'],\n",
    "                'train_macro_recall': metrics_dict['macro/recall'],\n",
    "                 'train_macro_f1_score': metrics_dict['macro/f1_score'],\n",
    "                 'val_loss' : val_loss_sum / val_batch_idx,\n",
    "                'val_micro_precision': val_metrics_dict['micro/precision'],\n",
    "                'val_micro_recall': val_metrics_dict['micro/recall'],\n",
    "                'val_micro_f1_score': val_metrics_dict['micro/f1_score'],\n",
    "                'val_macro_precision': val_metrics_dict['macro/precision'],\n",
    "                'val_macro_recall': val_metrics_dict['macro/recall'],\n",
    "                'val_macro_f1_score': val_metrics_dict['macro/f1_score']\n",
    "\n",
    "              })\n",
    "\n",
    "  \n",
    "  print('****************Model training completed******************')\n",
    "  torch.save(model.state_dict(), model_name + '.h5')\n",
    "\n",
    "\n"
   ]
  },
  {
   "cell_type": "code",
   "execution_count": null,
   "metadata": {
    "colab": {
     "base_uri": "https://localhost:8080/",
     "height": 1000,
     "referenced_widgets": [
      "20ebead0530f43318baafeb7342c6acb",
      "3ebb3ffde620424c8f95150997cddcc7",
      "ddb4dc90f2a1475cb5cbaa3198d61887",
      "9629cdc425cb41c8be52909404e2dfa3",
      "b209653943ee47949deac33e857df65f",
      "b4e3a4806f744844a7f862dc22044cda",
      "e8cf8b3f8aa5436d867ab0414b54a53d",
      "64db0fdbf7674d48837286cea533e7df"
     ]
    },
    "id": "fbgA2inKCcRT",
    "outputId": "729acc32-ff5b-47c6-f442-c3e81403616e"
   },
   "outputs": [],
   "source": [
    "%%wandb\n",
    "\n",
    "def main():\n",
    "  # wandb initialize a new run\n",
    "  wandb.init(project='Flixstock-assignment')\n",
    "  wandb.watch_called = False\n",
    "\n",
    "  config = wandb.config\n",
    "  config.batch_size = batch_size\n",
    "  config.epochs = epochs\n",
    "  config.lr = lr\n",
    "  config.seed = 42\n",
    "  config.labels = n_labels\n",
    "  config.device = device\n",
    "  config.model_name = model_name\n",
    "  config.log_freq = log_freq\n",
    "\n",
    "  # set seed and set cuddn to deterministic for reproducible results\n",
    "  torch.manual_seed(config.seed)\n",
    "  torch.backends.cudnn.deterministic = True\n",
    "  torch.backends.cudnn.benchmark = False\n",
    "\n",
    "  np.random.seed(config.seed)\n",
    "  random.seed(config.seed)\n",
    "\n",
    "  # train the model\n",
    "  train_model(model, dl_train, dl_valid, epochs, log_freq)\n",
    "\n",
    " \n",
    "if __name__=='__main__':\n",
    "  main()\n",
    "  wandb.finish()"
   ]
  },
  {
   "cell_type": "markdown",
   "metadata": {
    "id": "sYdVoBcM_Qnc"
   },
   "source": []
  },
  {
   "cell_type": "markdown",
   "metadata": {
    "id": "aaeb3ZWNmvUl"
   },
   "source": []
  },
  {
   "cell_type": "markdown",
   "metadata": {
    "id": "93n3LGjGqEGR"
   },
   "source": []
  },
  {
   "cell_type": "code",
   "execution_count": null,
   "metadata": {
    "id": "6qD6jyI1qMjx"
   },
   "outputs": [],
   "source": []
  }
 ],
 "metadata": {
  "accelerator": "GPU",
  "colab": {
   "include_colab_link": true,
   "name": "scratchpad",
   "provenance": []
  },
  "kernelspec": {
   "display_name": "Python [conda env:nlpenv]",
   "language": "python",
   "name": "conda-env-nlpenv-py"
  },
  "language_info": {
   "codemirror_mode": {
    "name": "ipython",
    "version": 3
   },
   "file_extension": ".py",
   "mimetype": "text/x-python",
   "name": "python",
   "nbconvert_exporter": "python",
   "pygments_lexer": "ipython3",
   "version": "3.7.11"
  },
  "widgets": {
   "application/vnd.jupyter.widget-state+json": {
    "20ebead0530f43318baafeb7342c6acb": {
     "model_module": "@jupyter-widgets/controls",
     "model_name": "VBoxModel",
     "state": {
      "_dom_classes": [],
      "_model_module": "@jupyter-widgets/controls",
      "_model_module_version": "1.5.0",
      "_model_name": "VBoxModel",
      "_view_count": null,
      "_view_module": "@jupyter-widgets/controls",
      "_view_module_version": "1.5.0",
      "_view_name": "VBoxView",
      "box_style": "",
      "children": [
       "IPY_MODEL_ddb4dc90f2a1475cb5cbaa3198d61887",
       "IPY_MODEL_9629cdc425cb41c8be52909404e2dfa3"
      ],
      "layout": "IPY_MODEL_3ebb3ffde620424c8f95150997cddcc7"
     }
    },
    "3ebb3ffde620424c8f95150997cddcc7": {
     "model_module": "@jupyter-widgets/base",
     "model_name": "LayoutModel",
     "state": {
      "_model_module": "@jupyter-widgets/base",
      "_model_module_version": "1.2.0",
      "_model_name": "LayoutModel",
      "_view_count": null,
      "_view_module": "@jupyter-widgets/base",
      "_view_module_version": "1.2.0",
      "_view_name": "LayoutView",
      "align_content": null,
      "align_items": null,
      "align_self": null,
      "border": null,
      "bottom": null,
      "display": null,
      "flex": null,
      "flex_flow": null,
      "grid_area": null,
      "grid_auto_columns": null,
      "grid_auto_flow": null,
      "grid_auto_rows": null,
      "grid_column": null,
      "grid_gap": null,
      "grid_row": null,
      "grid_template_areas": null,
      "grid_template_columns": null,
      "grid_template_rows": null,
      "height": null,
      "justify_content": null,
      "justify_items": null,
      "left": null,
      "margin": null,
      "max_height": null,
      "max_width": null,
      "min_height": null,
      "min_width": null,
      "object_fit": null,
      "object_position": null,
      "order": null,
      "overflow": null,
      "overflow_x": null,
      "overflow_y": null,
      "padding": null,
      "right": null,
      "top": null,
      "visibility": null,
      "width": null
     }
    },
    "64db0fdbf7674d48837286cea533e7df": {
     "model_module": "@jupyter-widgets/base",
     "model_name": "LayoutModel",
     "state": {
      "_model_module": "@jupyter-widgets/base",
      "_model_module_version": "1.2.0",
      "_model_name": "LayoutModel",
      "_view_count": null,
      "_view_module": "@jupyter-widgets/base",
      "_view_module_version": "1.2.0",
      "_view_name": "LayoutView",
      "align_content": null,
      "align_items": null,
      "align_self": null,
      "border": null,
      "bottom": null,
      "display": null,
      "flex": null,
      "flex_flow": null,
      "grid_area": null,
      "grid_auto_columns": null,
      "grid_auto_flow": null,
      "grid_auto_rows": null,
      "grid_column": null,
      "grid_gap": null,
      "grid_row": null,
      "grid_template_areas": null,
      "grid_template_columns": null,
      "grid_template_rows": null,
      "height": null,
      "justify_content": null,
      "justify_items": null,
      "left": null,
      "margin": null,
      "max_height": null,
      "max_width": null,
      "min_height": null,
      "min_width": null,
      "object_fit": null,
      "object_position": null,
      "order": null,
      "overflow": null,
      "overflow_x": null,
      "overflow_y": null,
      "padding": null,
      "right": null,
      "top": null,
      "visibility": null,
      "width": null
     }
    },
    "9629cdc425cb41c8be52909404e2dfa3": {
     "model_module": "@jupyter-widgets/controls",
     "model_name": "FloatProgressModel",
     "state": {
      "_dom_classes": [],
      "_model_module": "@jupyter-widgets/controls",
      "_model_module_version": "1.5.0",
      "_model_name": "FloatProgressModel",
      "_view_count": null,
      "_view_module": "@jupyter-widgets/controls",
      "_view_module_version": "1.5.0",
      "_view_name": "ProgressView",
      "bar_style": "",
      "description": "",
      "description_tooltip": null,
      "layout": "IPY_MODEL_64db0fdbf7674d48837286cea533e7df",
      "max": 1,
      "min": 0,
      "orientation": "horizontal",
      "style": "IPY_MODEL_e8cf8b3f8aa5436d867ab0414b54a53d",
      "value": 1
     }
    },
    "b209653943ee47949deac33e857df65f": {
     "model_module": "@jupyter-widgets/controls",
     "model_name": "DescriptionStyleModel",
     "state": {
      "_model_module": "@jupyter-widgets/controls",
      "_model_module_version": "1.5.0",
      "_model_name": "DescriptionStyleModel",
      "_view_count": null,
      "_view_module": "@jupyter-widgets/base",
      "_view_module_version": "1.2.0",
      "_view_name": "StyleView",
      "description_width": ""
     }
    },
    "b4e3a4806f744844a7f862dc22044cda": {
     "model_module": "@jupyter-widgets/base",
     "model_name": "LayoutModel",
     "state": {
      "_model_module": "@jupyter-widgets/base",
      "_model_module_version": "1.2.0",
      "_model_name": "LayoutModel",
      "_view_count": null,
      "_view_module": "@jupyter-widgets/base",
      "_view_module_version": "1.2.0",
      "_view_name": "LayoutView",
      "align_content": null,
      "align_items": null,
      "align_self": null,
      "border": null,
      "bottom": null,
      "display": null,
      "flex": null,
      "flex_flow": null,
      "grid_area": null,
      "grid_auto_columns": null,
      "grid_auto_flow": null,
      "grid_auto_rows": null,
      "grid_column": null,
      "grid_gap": null,
      "grid_row": null,
      "grid_template_areas": null,
      "grid_template_columns": null,
      "grid_template_rows": null,
      "height": null,
      "justify_content": null,
      "justify_items": null,
      "left": null,
      "margin": null,
      "max_height": null,
      "max_width": null,
      "min_height": null,
      "min_width": null,
      "object_fit": null,
      "object_position": null,
      "order": null,
      "overflow": null,
      "overflow_x": null,
      "overflow_y": null,
      "padding": null,
      "right": null,
      "top": null,
      "visibility": null,
      "width": null
     }
    },
    "ddb4dc90f2a1475cb5cbaa3198d61887": {
     "model_module": "@jupyter-widgets/controls",
     "model_name": "LabelModel",
     "state": {
      "_dom_classes": [],
      "_model_module": "@jupyter-widgets/controls",
      "_model_module_version": "1.5.0",
      "_model_name": "LabelModel",
      "_view_count": null,
      "_view_module": "@jupyter-widgets/controls",
      "_view_module_version": "1.5.0",
      "_view_name": "LabelView",
      "description": "",
      "description_tooltip": null,
      "layout": "IPY_MODEL_b4e3a4806f744844a7f862dc22044cda",
      "placeholder": "​",
      "style": "IPY_MODEL_b209653943ee47949deac33e857df65f",
      "value": " 0.06MB of 0.06MB uploaded (0.00MB deduped)\r"
     }
    },
    "e8cf8b3f8aa5436d867ab0414b54a53d": {
     "model_module": "@jupyter-widgets/controls",
     "model_name": "ProgressStyleModel",
     "state": {
      "_model_module": "@jupyter-widgets/controls",
      "_model_module_version": "1.5.0",
      "_model_name": "ProgressStyleModel",
      "_view_count": null,
      "_view_module": "@jupyter-widgets/base",
      "_view_module_version": "1.2.0",
      "_view_name": "StyleView",
      "bar_color": null,
      "description_width": ""
     }
    }
   }
  }
 },
 "nbformat": 4,
 "nbformat_minor": 4
}
